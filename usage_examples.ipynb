{
  "cells": [
    {
      "cell_type": "markdown",
      "id": "a742c3a0",
      "metadata": {
        "id": "a742c3a0"
      },
      "source": [
        "# Download the Repository (optional)\n",
        "Cell to download the repo if it is not already installed"
      ]
    },
    {
      "cell_type": "code",
      "source": [
        "!git clone https://github.com/miguelperezgascon/equation-solver.git\n",
        "%cd equation-solver"
      ],
      "metadata": {
        "colab": {
          "base_uri": "https://localhost:8080/"
        },
        "id": "nOwKa-eeXVJl",
        "outputId": "b42b9f08-e140-4f78-d6ca-9995baf1385c"
      },
      "id": "nOwKa-eeXVJl",
      "execution_count": 1,
      "outputs": [
        {
          "output_type": "stream",
          "name": "stdout",
          "text": [
            "Cloning into 'equation-solver'...\n",
            "remote: Enumerating objects: 100, done.\u001b[K\n",
            "remote: Counting objects: 100% (100/100), done.\u001b[K\n",
            "remote: Compressing objects: 100% (75/75), done.\u001b[K\n",
            "remote: Total 100 (delta 49), reused 63 (delta 21), pack-reused 0 (from 0)\u001b[K\n",
            "Receiving objects: 100% (100/100), 25.18 KiB | 3.60 MiB/s, done.\n",
            "Resolving deltas: 100% (49/49), done.\n",
            "/content/equation-solver\n"
          ]
        }
      ]
    },
    {
      "cell_type": "markdown",
      "source": [],
      "metadata": {
        "id": "yPvZFqj3XwTm"
      },
      "id": "yPvZFqj3XwTm"
    },
    {
      "cell_type": "markdown",
      "metadata": {
        "id": "9UGwGMDnXhuW"
      },
      "source": [
        "# Usage Examples for Equation Solver\n",
        "\n",
        "This notebook demonstrates how to use the parser, evaluator, differentiator, and solvers."
      ],
      "id": "9UGwGMDnXhuW"
    },
    {
      "cell_type": "code",
      "execution_count": 2,
      "id": "c85b86de",
      "metadata": {
        "colab": {
          "base_uri": "https://localhost:8080/"
        },
        "id": "c85b86de",
        "outputId": "0f28ea04-0312-44bb-c34f-1374c00421b2"
      },
      "outputs": [
        {
          "output_type": "stream",
          "name": "stdout",
          "text": [
            "Tokens: ['3', '*', 'x', '+', 'sin', '(', 'x', ')']\n",
            "RPN: ['3', 'x', '*', 'x', 'sin', '+']\n",
            "AST lhs: BinaryOp(op='+', left=BinaryOp(op='*', left=Number(value=(3+0j)), right=Variable(name='x')), right=UnaryOp(op='sin', operand=Variable(name='x')))\n"
          ]
        }
      ],
      "source": [
        "from src.parser import tokenize, to_rpn, parse\n",
        "from src.evaluator import eval_ast\n",
        "from src.differentiator import diff_ast\n",
        "from src.solvers import solve\n",
        "\n",
        "# Example 1: Tokenize and parse an expression\n",
        "expr = '3*x + sin(x)'\n",
        "tokens = tokenize(expr)\n",
        "rpn = to_rpn(tokens)\n",
        "as_lhs, as_rhs = parse(expr + '=0')\n",
        "print('Tokens:', tokens)\n",
        "print('RPN:', rpn)\n",
        "print('AST lhs:', as_lhs)"
      ]
    },
    {
      "cell_type": "markdown",
      "id": "c78e2bc1",
      "metadata": {
        "id": "c78e2bc1"
      },
      "source": [
        "### Evaluator\n",
        "Evaluate the expression at x=2."
      ]
    },
    {
      "cell_type": "code",
      "execution_count": 8,
      "id": "c6747648",
      "metadata": {
        "colab": {
          "base_uri": "https://localhost:8080/"
        },
        "id": "c6747648",
        "outputId": "60666ea2-91ae-4703-ecb9-6d812245933c"
      },
      "outputs": [
        {
          "output_type": "stream",
          "name": "stdout",
          "text": [
            "Evaluated at x=2: (6.909297426825682+0j)\n"
          ]
        }
      ],
      "source": [
        "env = {'x': 2}\n",
        "value = eval_ast(as_lhs, env)\n",
        "print('Evaluated at x=2:', value)"
      ]
    },
    {
      "cell_type": "markdown",
      "id": "b850d3b6",
      "metadata": {
        "id": "b850d3b6"
      },
      "source": [
        "### Differentiator\n",
        "Compute the symbolic derivative of x^3 + 2*x."
      ]
    },
    {
      "cell_type": "code",
      "execution_count": 9,
      "id": "24c1cf2f",
      "metadata": {
        "colab": {
          "base_uri": "https://localhost:8080/"
        },
        "id": "24c1cf2f",
        "outputId": "140cc815-57e1-4a1f-c5b2-95875195b397"
      },
      "outputs": [
        {
          "output_type": "stream",
          "name": "stdout",
          "text": [
            "Expression AST: BinaryOp(op='+', left=BinaryOp(op='^', left=Variable(name='x'), right=Number(value=3)), right=BinaryOp(op='*', left=Number(value=2), right=Variable(name='x')))\n",
            "Derivative AST: BinaryOp(op='+', left=BinaryOp(op='*', left=Number(value=3), right=BinaryOp(op='^', left=Variable(name='x'), right=Number(value=2))), right=BinaryOp(op='+', left=BinaryOp(op='*', left=Number(value=0), right=Variable(name='x')), right=BinaryOp(op='*', left=Number(value=2), right=Number(value=1))))\n"
          ]
        }
      ],
      "source": [
        "from src.ast import BinaryOp, Variable, Number\n",
        "# Build AST for x^3 + 2*x\n",
        "ast_expr = BinaryOp('+', BinaryOp('^', Variable('x'), Number(3)), BinaryOp('*', Number(2), Variable('x')))\n",
        "derivative = diff_ast(ast_expr, 'x')\n",
        "print('Expression AST:', ast_expr)\n",
        "print('Derivative AST:', derivative)"
      ]
    },
    {
      "cell_type": "markdown",
      "id": "c6889d26",
      "metadata": {
        "id": "c6889d26"
      },
      "source": [
        "### Solver for Polynomial\n",
        "Solve x^2 - 5*x + 6 = 0"
      ]
    },
    {
      "cell_type": "code",
      "execution_count": 10,
      "id": "360b1541",
      "metadata": {
        "colab": {
          "base_uri": "https://localhost:8080/"
        },
        "id": "360b1541",
        "outputId": "64b92c1d-eec7-482f-d78b-79cc95c9a52c"
      },
      "outputs": [
        {
          "output_type": "stream",
          "name": "stdout",
          "text": [
            "Polynomial roots: [(2.0000000000000018+0j), (2.9999999999999987-0j)]\n"
          ]
        }
      ],
      "source": [
        "roots = solve('x^2 - 5*x + 6 = 0')\n",
        "print('Polynomial roots:', roots)"
      ]
    },
    {
      "cell_type": "markdown",
      "id": "f5fadd15",
      "metadata": {
        "id": "f5fadd15"
      },
      "source": [
        "### Solver for Transcendental Equation\n",
        "Solve sin(x) = 0 in [0, 10]"
      ]
    },
    {
      "cell_type": "code",
      "execution_count": 11,
      "id": "e93b1cc6",
      "metadata": {
        "colab": {
          "base_uri": "https://localhost:8080/"
        },
        "id": "e93b1cc6",
        "outputId": "84b8cffb-0a48-49ab-fb28-8ef1c01a96ff"
      },
      "outputs": [
        {
          "output_type": "stream",
          "name": "stdout",
          "text": [
            "Transcendental roots: [np.float64(3.141592653589793), np.float64(6.283185307179586), np.float64(9.42477796076938)]\n"
          ]
        }
      ],
      "source": [
        "roots = solve('sin(x) = 0', domain=(0, 10))\n",
        "print('Transcendental roots:', roots)"
      ]
    }
  ],
  "metadata": {
    "colab": {
      "provenance": []
    },
    "language_info": {
      "name": "python"
    },
    "kernelspec": {
      "name": "python3",
      "display_name": "Python 3"
    }
  },
  "nbformat": 4,
  "nbformat_minor": 5
}